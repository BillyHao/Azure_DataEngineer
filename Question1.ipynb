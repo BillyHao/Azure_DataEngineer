{
    "cells": [
        {
            "cell_type": "code",
            "execution_count": 4,
            "source": [
                "import pandas as pd \n",
                "\n",
                "#merge the dataframe into one with pandas\n",
                "df_text1 = pd.read_csv('people/people_1.txt')\n",
                "df_text2 = pd.read_csv('people/people_2.txt')\n",
                "frame = pd.concat[df_text1, df_text2]"
            ],
            "outputs": [
                {
                    "output_type": "error",
                    "ename": "TypeError",
                    "evalue": "'function' object is not subscriptable",
                    "traceback": [
                        "\u001b[0;31m---------------------------------------------------------------------------\u001b[0m",
                        "\u001b[0;31mTypeError\u001b[0m                                 Traceback (most recent call last)",
                        "\u001b[0;32m<ipython-input-4-cf32cfbe7a4b>\u001b[0m in \u001b[0;36m<module>\u001b[0;34m\u001b[0m\n\u001b[1;32m      4\u001b[0m \u001b[0mdf_text1\u001b[0m \u001b[0;34m=\u001b[0m \u001b[0mpd\u001b[0m\u001b[0;34m.\u001b[0m\u001b[0mread_csv\u001b[0m\u001b[0;34m(\u001b[0m\u001b[0;34m'people/people_1.txt'\u001b[0m\u001b[0;34m)\u001b[0m\u001b[0;34m\u001b[0m\u001b[0;34m\u001b[0m\u001b[0m\n\u001b[1;32m      5\u001b[0m \u001b[0mdf_text2\u001b[0m \u001b[0;34m=\u001b[0m \u001b[0mpd\u001b[0m\u001b[0;34m.\u001b[0m\u001b[0mread_csv\u001b[0m\u001b[0;34m(\u001b[0m\u001b[0;34m'people/people_2.txt'\u001b[0m\u001b[0;34m)\u001b[0m\u001b[0;34m\u001b[0m\u001b[0;34m\u001b[0m\u001b[0m\n\u001b[0;32m----> 6\u001b[0;31m \u001b[0mframe\u001b[0m \u001b[0;34m=\u001b[0m \u001b[0mpd\u001b[0m\u001b[0;34m.\u001b[0m\u001b[0mconcat\u001b[0m\u001b[0;34m[\u001b[0m\u001b[0mdf_text1\u001b[0m\u001b[0;34m,\u001b[0m \u001b[0mdf_text2\u001b[0m\u001b[0;34m]\u001b[0m\u001b[0;34m\u001b[0m\u001b[0;34m\u001b[0m\u001b[0m\n\u001b[0m",
                        "\u001b[0;31mTypeError\u001b[0m: 'function' object is not subscriptable"
                    ]
                }
            ],
            "metadata": {}
        },
        {
            "cell_type": "code",
            "execution_count": null,
            "source": [
                "#format the columns \n",
                "frame['FirstName'] = frame.FirstName.str.lower()\n",
                "frame['LastName'] = frame.LastName.str.lower()\n",
                "frame['Email'] = frame.Email.str.lower()\n",
                "frame['Phone'] = frame.Phone.str.replace('-','')\n"
            ],
            "outputs": [],
            "metadata": {}
        },
        {
            "cell_type": "code",
            "execution_count": null,
            "source": [
                "#merge name columns \n",
                "frame['Name'] = frame.FirstName + frame.LastName\n",
                "frame = frame.drop_duplicates(subset = ['Name'])\n",
                "frame.to_csv('people_without_duplicates'.csv)"
            ],
            "outputs": [],
            "metadata": {}
        }
    ],
    "metadata": {
        "orig_nbformat": 4,
        "language_info": {
            "name": "python",
            "version": "3.8.8",
            "mimetype": "text/x-python",
            "codemirror_mode": {
                "name": "ipython",
                "version": 3
            },
            "pygments_lexer": "ipython3",
            "nbconvert_exporter": "python",
            "file_extension": ".py"
        },
        "kernelspec": {
            "name": "python3",
            "display_name": "Python 3.8.8 64-bit ('base': conda)"
        },
        "interpreter": {
            "hash": "899e48778fbd8f29dfcdaeffc0a089dbb5102b712f40aa61626427f47512a85e"
        }
    },
    "nbformat": 4,
    "nbformat_minor": 2
}